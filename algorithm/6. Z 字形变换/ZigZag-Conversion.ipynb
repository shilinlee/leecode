{
 "cells": [
  {
   "attachments": {},
   "cell_type": "markdown",
   "metadata": {},
   "source": [
    "![image](https://user-images.githubusercontent.com/22270117/62936296-03858100-bdfc-11e9-9754-042fae063893.png)\n",
    "\n",
    "就是给定一个字符串，然后按竖着的 「z」的方式排列字符，就是下边的样子。\n",
    "\n",
    "![image](https://user-images.githubusercontent.com/22270117/62936369-33348900-bdfc-11e9-9073-8ac8979dbc1c.png)"
   ]
  },
  {
   "cell_type": "code",
   "execution_count": 1,
   "metadata": {},
   "outputs": [],
   "source": [
    "def convert(s: str, numRows: int):\n",
    "    if numRows == 1:\n",
    "        return s\n",
    "    \n",
    "    rows = list()\n",
    "    \n",
    "    for i in range(min(numRows, len(s))):\n",
    "        rows.append(list())\n",
    "    \n",
    "    cur_row = 0\n",
    "    going_down = False\n",
    "    \n",
    "    for c in s:\n",
    "        rows[cur_row].append(c)\n",
    "        if cur_row ==0 or cur_row == numRows - 1:\n",
    "            # 遍历到两边，变换方向\n",
    "            going_down = not going_down\n",
    "        cur_row  += 1 if going_down else -1\n",
    "    \n",
    "    \n",
    "    res = []\n",
    "    \n",
    "    for row in rows:\n",
    "        res.extend(row)\n",
    "    \n",
    "    return \"\".join(res)"
   ]
  },
  {
   "cell_type": "code",
   "execution_count": 2,
   "metadata": {},
   "outputs": [
    {
     "data": {
      "text/plain": [
       "'LCIRETOESIIGEDHN'"
      ]
     },
     "execution_count": 2,
     "metadata": {},
     "output_type": "execute_result"
    }
   ],
   "source": [
    "convert(\"LEETCODEISHIRING\", 3)"
   ]
  },
  {
   "cell_type": "code",
   "execution_count": 3,
   "metadata": {},
   "outputs": [
    {
     "data": {
      "text/plain": [
       "'LDREOEIIECIHNTSG'"
      ]
     },
     "execution_count": 3,
     "metadata": {},
     "output_type": "execute_result"
    }
   ],
   "source": [
    "\"\"\"\n",
    "L     D     R\n",
    "E   O E   I I\n",
    "E C   I H   N\n",
    "T     S     G\n",
    "\"\"\"\n",
    "convert(\"LEETCODEISHIRING\", 4)"
   ]
  },
  {
   "cell_type": "code",
   "execution_count": null,
   "metadata": {},
   "outputs": [],
   "source": []
  }
 ],
 "metadata": {
  "kernelspec": {
   "display_name": "Python 3",
   "language": "python",
   "name": "python3"
  },
  "language_info": {
   "codemirror_mode": {
    "name": "ipython",
    "version": 3
   },
   "file_extension": ".py",
   "mimetype": "text/x-python",
   "name": "python",
   "nbconvert_exporter": "python",
   "pygments_lexer": "ipython3",
   "version": "3.5.4"
  }
 },
 "nbformat": 4,
 "nbformat_minor": 2
}
