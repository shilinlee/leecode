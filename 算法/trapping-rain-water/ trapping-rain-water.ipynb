{
 "cells": [
  {
   "cell_type": "markdown",
   "metadata": {},
   "source": [
    "# 接雨水\n",
    "## 题目描述\n",
    "给定 n 个非负整数表示每个宽度为 1 的柱子的高度图，计算按此排列的柱子，下雨之后能接多少雨水。\n",
    "![rainwatertrap](./rainwatertrap.png)\n",
    "上面是由数组 [0,1,0,2,1,0,1,3,2,1,2,1] 表示的高度图，在这种情况下，可以接 6 个单位的雨水（蓝色部分表示雨水）。 感谢 Marcos 贡献此图。\n",
    "\n",
    "示例:\n",
    "```\n",
    "输入: [0,1,0,2,1,0,1,3,2,1,2,1]\n",
    "输出: 6\n",
    "```"
   ]
  },
  {
   "cell_type": "markdown",
   "metadata": {},
   "source": [
    "## 解法1\n",
    "从左边遍历加从右边遍历等于总面积加原来图像加雨水数"
   ]
  },
  {
   "cell_type": "code",
   "execution_count": 28,
   "metadata": {},
   "outputs": [],
   "source": [
    "from typing import List\n",
    "\n",
    "class Solution:\n",
    "    def trap(self, height: List[int]) -> int:\n",
    "        water = 0\n",
    "        h1 = 0\n",
    "        h2 = 0\n",
    "        for i, v in enumerate(height):\n",
    "            h1 = max(h1, height[i])\n",
    "            h2 = max(h2, height[-i-1])\n",
    "            water += h1 + h2 - v\n",
    "\n",
    "        return water - len(height)*h1"
   ]
  },
  {
   "cell_type": "code",
   "execution_count": 64,
   "metadata": {},
   "outputs": [
    {
     "data": {
      "text/plain": [
       "2"
      ]
     },
     "execution_count": 64,
     "metadata": {},
     "output_type": "execute_result"
    }
   ],
   "source": [
    "Solution().trap([0, 1, 0, 2, 0, 1])"
   ]
  },
  {
   "cell_type": "code",
   "execution_count": 57,
   "metadata": {},
   "outputs": [
    {
     "data": {
      "text/plain": [
       "6"
      ]
     },
     "execution_count": 57,
     "metadata": {},
     "output_type": "execute_result"
    }
   ],
   "source": [
    "Solution().trap([0,1,0,2,1,0,1,3,2,1,2,1])"
   ]
  },
  {
   "cell_type": "markdown",
   "metadata": {},
   "source": [
    "## 解法2\n",
    "\n",
    "我们可以先找到**山峰**的位置，这样山峰左侧一定是上升趋势，而山峰右侧一定是下降趋势。\n",
    "我们在山峰左侧的时候，从左向山峰走，这样我们一定可以知道当前的左侧的最大值，并且知道当前的最低水位。\n",
    "我们在山峰右侧的时候，从右向山峰走，这样我们一定可以知道当前的右侧的最大值，并且知道当前的最低水位。"
   ]
  },
  {
   "cell_type": "code",
   "execution_count": 61,
   "metadata": {},
   "outputs": [],
   "source": [
    "from typing import List\n",
    "\n",
    "class Solution:\n",
    "    def trap(self, height: List[int]) -> int:\n",
    "        water = 0\n",
    "        peak = 0\n",
    "        peak_value = 0\n",
    "        if len(height) < 3:\n",
    "            return 0\n",
    "        \n",
    "        # 找到定点\n",
    "        for i in range(len(height)):\n",
    "            if peak_value <= height[i]:\n",
    "                peak_value = height[i]\n",
    "                peark = i\n",
    "        \n",
    "        max_left, max_right = height[0], height[-1]\n",
    "        # 左边上升区别\n",
    "        for i in range(peark):\n",
    "            if max_left <= height[i]:\n",
    "                max_left = height[i]\n",
    "            else:\n",
    "                water += max_left - height[i]\n",
    "        \n",
    "        # 右边上升区别\n",
    "        for i in range(len(height)-1, peark, -1):\n",
    "            if max_right <= height[i]:\n",
    "                max_right = height[i]\n",
    "            else:\n",
    "                water += max_right - height[i]\n",
    "            \n",
    "        return water "
   ]
  },
  {
   "cell_type": "code",
   "execution_count": 62,
   "metadata": {},
   "outputs": [
    {
     "data": {
      "text/plain": [
       "2"
      ]
     },
     "execution_count": 62,
     "metadata": {},
     "output_type": "execute_result"
    }
   ],
   "source": [
    "Solution().trap([0, 1, 0, 2, 0, 1])"
   ]
  },
  {
   "cell_type": "code",
   "execution_count": 56,
   "metadata": {},
   "outputs": [
    {
     "data": {
      "text/plain": [
       "6"
      ]
     },
     "execution_count": 56,
     "metadata": {},
     "output_type": "execute_result"
    }
   ],
   "source": [
    "Solution().trap([0,1,0,2,1,0,1,3,2,1,2,1])"
   ]
  },
  {
   "cell_type": "code",
   "execution_count": null,
   "metadata": {},
   "outputs": [],
   "source": []
  }
 ],
 "metadata": {
  "kernelspec": {
   "display_name": "Python 3",
   "language": "python",
   "name": "python3"
  },
  "language_info": {
   "codemirror_mode": {
    "name": "ipython",
    "version": 3
   },
   "file_extension": ".py",
   "mimetype": "text/x-python",
   "name": "python",
   "nbconvert_exporter": "python",
   "pygments_lexer": "ipython3",
   "version": "3.5.4"
  }
 },
 "nbformat": 4,
 "nbformat_minor": 2
}
